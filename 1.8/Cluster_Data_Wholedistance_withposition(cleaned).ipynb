{
 "cells": [
  {
   "cell_type": "code",
   "execution_count": 1,
   "metadata": {},
   "outputs": [
    {
     "name": "stderr",
     "output_type": "stream",
     "text": [
      "/opt/homebrew/Caskroom/miniconda/base/lib/python3.12/site-packages/tslearn/bases/bases.py:15: UserWarning: h5py not installed, hdf5 features will not be supported.\n",
      "Install h5py to use hdf5 features: http://docs.h5py.org/\n",
      "  warn(h5py_msg)\n"
     ]
    },
    {
     "name": "stdout",
     "output_type": "stream",
     "text": [
      "处理完毕，数据已保存到 'Cluster_Data_Wholedistance_withposition(cleaned).xlsx'\n"
     ]
    }
   ],
   "source": [
    "import pandas as pd\n",
    "import numpy as np\n",
    "from sklearn.cluster import DBSCAN\n",
    "from tslearn.metrics import dtw\n",
    "from scipy.spatial.distance import squareform\n",
    "import matplotlib.pyplot as plt\n",
    "\n",
    "# Load and normalize data\n",
    "file_paths = [\n",
    "    '/Users/yangfanzhou/Desktop/1.8/ResultWholeDistance/Experiment1_Data.xlsx',\n",
    "    '/Users/yangfanzhou/Desktop/1.8/ResultWholeDistance/Experiment2_Data.xlsx',\n",
    "    '/Users/yangfanzhou/Desktop/1.8/ResultWholeDistance/Experiment3_Data.xlsx'\n",
    "]\n",
    "\n",
    "# Read and concatenate all data\n",
    "all_data = pd.concat([pd.read_excel(fp) for fp in file_paths], ignore_index=True)\n",
    "\n",
    "# Keep only the required columns\n",
    "columns_to_keep = ['ID', 'Label', 'Positionx', 'Positiony', 'Speed', 'SpeedChange', 'AngleChange']\n",
    "filtered_data = all_data[columns_to_keep]\n",
    "\n",
    "# Drop rows where only the ID has values and the other columns are entirely empty or NaN\n",
    "filtered_data = filtered_data.dropna()\n",
    "\n",
    "# Save the processed data to a new Excel file\n",
    "filtered_data.to_excel('/Users/yangfanzhou/Desktop/1.8/Cluster_Data_Wholedistance_withposition(cleaned).xlsx', index=False)\n",
    "\n",
    "print(\"Processing complete, data saved to 'Cluster_Data_Wholedistance_withposition(cleaned).xlsx'\")\n"
   ]
  }
 ],
 "metadata": {
  "kernelspec": {
   "display_name": "base",
   "language": "python",
   "name": "python3"
  },
  "language_info": {
   "codemirror_mode": {
    "name": "ipython",
    "version": 3
   },
   "file_extension": ".py",
   "mimetype": "text/x-python",
   "name": "python",
   "nbconvert_exporter": "python",
   "pygments_lexer": "ipython3",
   "version": "3.12.2"
  }
 },
 "nbformat": 4,
 "nbformat_minor": 2
}
