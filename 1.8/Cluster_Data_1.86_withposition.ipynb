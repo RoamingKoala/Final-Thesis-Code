{
 "cells": [
  {
   "cell_type": "code",
   "execution_count": 2,
   "metadata": {},
   "outputs": [
    {
     "name": "stdout",
     "output_type": "stream",
     "text": [
      "处理完毕，数据已保存到 '/Users/yangfanzhou/Desktop/1.8/Cluster_Data_1.86_withposition(cleaned).xlsx'\n"
     ]
    }
   ],
   "source": [
    "import pandas as pd\n",
    "import numpy as np\n",
    "from sklearn.cluster import DBSCAN\n",
    "from tslearn.metrics import dtw\n",
    "from scipy.spatial.distance import squareform\n",
    "import matplotlib.pyplot as plt\n",
    "\n",
    "# Load and normalize data\n",
    "file_paths = [\n",
    "    '/Users/yangfanzhou/Desktop/1.8/1.86/Experiment1.xlsx',\n",
    "    '/Users/yangfanzhou/Desktop/1.8/1.86/Experiment2.xlsx',\n",
    "    '/Users/yangfanzhou/Desktop/1.8/1.86/Experiment3.xlsx'\n",
    "]\n",
    "\n",
    "# Read and concatenate all data\n",
    "all_data = pd.concat([pd.read_excel(fp) for fp in file_paths], ignore_index=True)\n",
    "\n",
    "# Keep only the required columns\n",
    "columns_to_keep = ['ID', 'Label', 'Positionx', 'Positiony', 'Speed', 'SpeedChange', 'AngleChange']\n",
    "filtered_data = all_data[columns_to_keep]\n",
    "\n",
    "# Drop rows where only the ID has values and the other columns are entirely empty or NaN\n",
    "filtered_data = filtered_data.dropna()\n",
    "\n",
    "# Save the processed data to a new Excel file\n",
    "filtered_data.to_excel('/Users/yangfanzhou/Desktop/1.8/Cluster_Data_1.86_withposition(cleaned).xlsx', index=False)\n",
    "\n",
    "print(\"Processing complete, data saved to '/Users/yangfanzhou/Desktop/1.8/Cluster_Data_1.86_withposition(cleaned).xlsx'\")\n"
   ]
  },
  {
   "cell_type": "code",
   "execution_count": 1,
   "metadata": {},
   "outputs": [
    {
     "name": "stdout",
     "output_type": "stream",
     "text": [
      "所有参与者的所有轨迹总数为: 994\n"
     ]
    }
   ],
   "source": [
    "import pandas as pd\n",
    "\n",
    "# Load the Excel file\n",
    "file_path = '/Users/yangfanzhou/Desktop/1.8/Cluster_Data_1.86_withposition(cleaned).xlsx'\n",
    "excel_data = pd.read_excel(file_path)\n",
    "\n",
    "# Group by 'ID' and 'Label' and count the number of unique (ID, Label) pairs\n",
    "total_trajectory_count = excel_data.groupby(['ID', 'Label']).ngroups\n",
    "\n",
    "# Display the result\n",
    "print(f\"Total number of trajectories for all participants: {total_trajectory_count}\")\n"
   ]
  },
  {
   "cell_type": "code",
   "execution_count": 2,
   "metadata": {},
   "outputs": [
    {
     "name": "stdout",
     "output_type": "stream",
     "text": [
      "所有轨迹长度不小于9个单位的数量为: 656\n"
     ]
    }
   ],
   "source": [
    "import pandas as pd\n",
    "\n",
    "# Load the Excel file\n",
    "file_path = '/Users/yangfanzhou/Desktop/1.8/Cluster_Data_1.86_withposition(cleaned).xlsx'\n",
    "excel_data = pd.read_excel(file_path)\n",
    "\n",
    "# Group by 'ID' and 'Label', then filter out groups with trajectory length less than 9 units\n",
    "filtered_trajectory_count = excel_data.groupby(['ID', 'Label']).filter(lambda x: len(x) >= 9).groupby(['ID', 'Label']).ngroups\n",
    "\n",
    "# Display the result\n",
    "print(f\"Number of trajectories with length no less than 9 units: {filtered_trajectory_count}\")\n"
   ]
  }
 ],
 "metadata": {
  "kernelspec": {
   "display_name": "base",
   "language": "python",
   "name": "python3"
  },
  "language_info": {
   "codemirror_mode": {
    "name": "ipython",
    "version": 3
   },
   "file_extension": ".py",
   "mimetype": "text/x-python",
   "name": "python",
   "nbconvert_exporter": "python",
   "pygments_lexer": "ipython3",
   "version": "3.12.2"
  }
 },
 "nbformat": 4,
 "nbformat_minor": 2
}
